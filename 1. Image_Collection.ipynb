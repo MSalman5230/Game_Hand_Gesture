{
 "cells": [
  {
   "cell_type": "markdown",
   "metadata": {},
   "source": [
    "# 1. Import Dependencies"
   ]
  },
  {
   "cell_type": "code",
   "execution_count": null,
   "metadata": {},
   "outputs": [],
   "source": [
    "#!pip install opencv-python"
   ]
  },
  {
   "cell_type": "code",
   "execution_count": 2,
   "metadata": {},
   "outputs": [],
   "source": [
    "# Import opencv\n",
    "import cv2 \n",
    "\n",
    "# Import uuid\n",
    "import uuid\n",
    "\n",
    "# Import Operating System\n",
    "import os\n",
    "\n",
    "# Import time\n",
    "import time\n",
    "\n"
   ]
  },
  {
   "cell_type": "markdown",
   "metadata": {},
   "source": [
    "# 2. Define Images to Collect"
   ]
  },
  {
   "cell_type": "code",
   "execution_count": 3,
   "metadata": {},
   "outputs": [],
   "source": [
    "labels = ['up', 'down', 'hold']\n",
    "labels = ['down']\n",
    "number_imgs = 20"
   ]
  },
  {
   "cell_type": "markdown",
   "metadata": {},
   "source": [
    "# 3. Setup Folders "
   ]
  },
  {
   "cell_type": "code",
   "execution_count": 4,
   "metadata": {},
   "outputs": [],
   "source": [
    "IMAGES_PATH = os.path.join('Tensorflow', 'workspace', 'images', 'collectedimages')"
   ]
  },
  {
   "cell_type": "code",
   "execution_count": 5,
   "metadata": {},
   "outputs": [],
   "source": [
    "if not os.path.exists(IMAGES_PATH):\n",
    "    if os.name == 'posix':\n",
    "        !mkdir -p {IMAGES_PATH}\n",
    "    if os.name == 'nt':\n",
    "         !mkdir {IMAGES_PATH}\n",
    "for label in labels:\n",
    "    path = os.path.join(IMAGES_PATH, label)\n",
    "    if not os.path.exists(path):\n",
    "        !mkdir {path}"
   ]
  },
  {
   "cell_type": "markdown",
   "metadata": {},
   "source": [
    "# 4. Capture Images"
   ]
  },
  {
   "cell_type": "code",
   "execution_count": 6,
   "metadata": {},
   "outputs": [
    {
     "name": "stdout",
     "output_type": "stream",
     "text": [
      "Collecting images for down\n",
      "Collecting image 0\n",
      "Collecting image 1\n",
      "Collecting image 2\n",
      "Collecting image 3\n",
      "Collecting image 4\n",
      "Collecting image 5\n",
      "Collecting image 6\n",
      "Collecting image 7\n",
      "Collecting image 8\n",
      "Collecting image 9\n",
      "Collecting image 10\n",
      "Collecting image 11\n",
      "Collecting image 12\n",
      "Collecting image 13\n",
      "Collecting image 14\n",
      "Collecting image 15\n",
      "Collecting image 16\n",
      "Collecting image 17\n",
      "Collecting image 18\n",
      "Collecting image 19\n"
     ]
    }
   ],
   "source": [
    "for label in labels:\n",
    "    cap = cv2.VideoCapture(0)\n",
    "    print('Collecting images for {}'.format(label))\n",
    "    time.sleep(5)\n",
    "    for imgnum in range(number_imgs):\n",
    "        print('Collecting image {}'.format(imgnum))\n",
    "        ret, frame = cap.read()\n",
    "        imgname = os.path.join(IMAGES_PATH,label,label+'.'+'{}.jpg'.format(str(uuid.uuid1())))\n",
    "        cv2.imwrite(imgname, frame)\n",
    "        cv2.imshow('frame', frame)\n",
    "        time.sleep(2)\n",
    "\n",
    "        if cv2.waitKey(1) & 0xFF == ord('q'):\n",
    "            break\n",
    "cap.release()\n",
    "cv2.destroyAllWindows()"
   ]
  },
  {
   "cell_type": "markdown",
   "metadata": {},
   "source": [
    "# 5. Image Labelling Application"
   ]
  },
  {
   "cell_type": "code",
   "execution_count": 22,
   "metadata": {},
   "outputs": [
    {
     "name": "stdout",
     "output_type": "stream",
     "text": [
      "Collecting pyqt5\n",
      "  Using cached PyQt5-5.15.6-cp36-abi3-win_amd64.whl (6.7 MB)\n",
      "Collecting lxml\n",
      "  Using cached lxml-4.7.1-cp39-cp39-win_amd64.whl (3.7 MB)\n",
      "Collecting PyQt5-sip<13,>=12.8\n",
      "  Using cached PyQt5_sip-12.9.0-cp39-cp39-win_amd64.whl (63 kB)\n",
      "Collecting PyQt5-Qt5>=5.15.2\n",
      "  Using cached PyQt5_Qt5-5.15.2-py3-none-win_amd64.whl (50.1 MB)\n",
      "Installing collected packages: PyQt5-sip, PyQt5-Qt5, pyqt5, lxml\n",
      "Successfully installed PyQt5-Qt5-5.15.2 PyQt5-sip-12.9.0 lxml-4.7.1 pyqt5-5.15.6\n"
     ]
    }
   ],
   "source": [
    "#!pip install --upgrade pyqt5 lxml"
   ]
  },
  {
   "cell_type": "code",
   "execution_count": 7,
   "metadata": {},
   "outputs": [],
   "source": [
    "LABELIMG_PATH = os.path.join('Tensorflow', 'labelimg')"
   ]
  },
  {
   "cell_type": "code",
   "execution_count": 11,
   "metadata": {},
   "outputs": [],
   "source": [
    "if not os.path.exists(LABELIMG_PATH):\n",
    "    !mkdir {LABELIMG_PATH}\n",
    "    !git clone https://github.com/tzutalin/labelImg {LABELIMG_PATH}"
   ]
  },
  {
   "cell_type": "code",
   "execution_count": 8,
   "metadata": {},
   "outputs": [],
   "source": [
    "if os.name == 'posix':\n",
    "    !make qt5py3\n",
    "if os.name =='nt':\n",
    "    !cd {LABELIMG_PATH} && pyrcc5 -o libs/resources.py resources.qrc"
   ]
  },
  {
   "cell_type": "code",
   "execution_count": 9,
   "metadata": {},
   "outputs": [
    {
     "name": "stdout",
     "output_type": "stream",
     "text": [
      "Image:C:\\Projects\\JupyterNotebook\\Game_Gesture\\Tensorflow\\workspace\\images\\collectedimages\\down\\down.1ae40b65-6edb-11ec-913b-f8ac65ab7f15.jpg -> Annotation:C:/Projects/JupyterNotebook/Game_Gesture/Tensorflow/workspace/images/collectedimages/down/down.1ae40b65-6edb-11ec-913b-f8ac65ab7f15.xml\n",
      "Image:C:\\Projects\\JupyterNotebook\\Game_Gesture\\Tensorflow\\workspace\\images\\collectedimages\\down\\down.1c1bc98e-6edb-11ec-b012-f8ac65ab7f15.jpg -> Annotation:C:/Projects/JupyterNotebook/Game_Gesture/Tensorflow/workspace/images/collectedimages/down/down.1c1bc98e-6edb-11ec-b012-f8ac65ab7f15.xml\n",
      "Image:C:\\Projects\\JupyterNotebook\\Game_Gesture\\Tensorflow\\workspace\\images\\collectedimages\\down\\down.1d535da6-6edb-11ec-aace-f8ac65ab7f15.jpg -> Annotation:C:/Projects/JupyterNotebook/Game_Gesture/Tensorflow/workspace/images/collectedimages/down/down.1d535da6-6edb-11ec-aace-f8ac65ab7f15.xml\n",
      "Image:C:\\Projects\\JupyterNotebook\\Game_Gesture\\Tensorflow\\workspace\\images\\collectedimages\\down\\down.1e8b2443-6edb-11ec-841f-f8ac65ab7f15.jpg -> Annotation:C:/Projects/JupyterNotebook/Game_Gesture/Tensorflow/workspace/images/collectedimages/down/down.1e8b2443-6edb-11ec-841f-f8ac65ab7f15.xml\n",
      "Image:C:\\Projects\\JupyterNotebook\\Game_Gesture\\Tensorflow\\workspace\\images\\collectedimages\\down\\down.1fc2bf66-6edb-11ec-98c4-f8ac65ab7f15.jpg -> Annotation:C:/Projects/JupyterNotebook/Game_Gesture/Tensorflow/workspace/images/collectedimages/down/down.1fc2bf66-6edb-11ec-98c4-f8ac65ab7f15.xml\n",
      "Image:C:\\Projects\\JupyterNotebook\\Game_Gesture\\Tensorflow\\workspace\\images\\collectedimages\\down\\down.14d1ba89-6edb-11ec-853d-f8ac65ab7f15.jpg -> Annotation:C:/Projects/JupyterNotebook/Game_Gesture/Tensorflow/workspace/images/collectedimages/down/down.14d1ba89-6edb-11ec-853d-f8ac65ab7f15.xml\n",
      "Image:C:\\Projects\\JupyterNotebook\\Game_Gesture\\Tensorflow\\workspace\\images\\collectedimages\\down\\down.19ac5f3f-6edb-11ec-b2ea-f8ac65ab7f15.jpg -> Annotation:C:/Projects/JupyterNotebook/Game_Gesture/Tensorflow/workspace/images/collectedimages/down/down.19ac5f3f-6edb-11ec-b2ea-f8ac65ab7f15.xml\n",
      "Image:C:\\Projects\\JupyterNotebook\\Game_Gesture\\Tensorflow\\workspace\\images\\collectedimages\\down\\down.20f8a0ac-6edb-11ec-afe4-f8ac65ab7f15.jpg -> Annotation:C:/Projects/JupyterNotebook/Game_Gesture/Tensorflow/workspace/images/collectedimages/down/down.20f8a0ac-6edb-11ec-afe4-f8ac65ab7f15.xml\n",
      "Image:C:\\Projects\\JupyterNotebook\\Game_Gesture\\Tensorflow\\workspace\\images\\collectedimages\\down\\down.25d2e491-6edb-11ec-b306-f8ac65ab7f15.jpg -> Annotation:C:/Projects/JupyterNotebook/Game_Gesture/Tensorflow/workspace/images/collectedimages/down/down.25d2e491-6edb-11ec-b306-f8ac65ab7f15.xml\n",
      "Image:C:\\Projects\\JupyterNotebook\\Game_Gesture\\Tensorflow\\workspace\\images\\collectedimages\\down\\down.125ff889-6edb-11ec-93cb-f8ac65ab7f15.jpg -> Annotation:C:/Projects/JupyterNotebook/Game_Gesture/Tensorflow/workspace/images/collectedimages/down/down.125ff889-6edb-11ec-93cb-f8ac65ab7f15.xml\n",
      "Image:C:\\Projects\\JupyterNotebook\\Game_Gesture\\Tensorflow\\workspace\\images\\collectedimages\\down\\down.139c3512-6edb-11ec-ba50-f8ac65ab7f15.jpg -> Annotation:C:/Projects/JupyterNotebook/Game_Gesture/Tensorflow/workspace/images/collectedimages/down/down.139c3512-6edb-11ec-ba50-f8ac65ab7f15.xml\n",
      "Image:C:\\Projects\\JupyterNotebook\\Game_Gesture\\Tensorflow\\workspace\\images\\collectedimages\\down\\down.173cd87b-6edb-11ec-94ff-f8ac65ab7f15.jpg -> Annotation:C:/Projects/JupyterNotebook/Game_Gesture/Tensorflow/workspace/images/collectedimages/down/down.173cd87b-6edb-11ec-94ff-f8ac65ab7f15.xml\n",
      "Image:C:\\Projects\\JupyterNotebook\\Game_Gesture\\Tensorflow\\workspace\\images\\collectedimages\\down\\down.222fd0db-6edb-11ec-aae9-f8ac65ab7f15.jpg -> Annotation:C:/Projects/JupyterNotebook/Game_Gesture/Tensorflow/workspace/images/collectedimages/down/down.222fd0db-6edb-11ec-aae9-f8ac65ab7f15.xml\n",
      "Image:C:\\Projects\\JupyterNotebook\\Game_Gesture\\Tensorflow\\workspace\\images\\collectedimages\\down\\down.222fd0db-6edb-11ec-aae9-f8ac65ab7f15.jpg -> Annotation:C:\\Projects\\JupyterNotebook\\Game_Gesture\\Tensorflow\\workspace\\images\\collectedimages\\down\\down.222fd0db-6edb-11ec-aae9-f8ac65ab7f15.xml\n",
      "Image:C:\\Projects\\JupyterNotebook\\Game_Gesture\\Tensorflow\\workspace\\images\\collectedimages\\down\\down.249c04d3-6edb-11ec-a599-f8ac65ab7f15.jpg -> Annotation:C:/Projects/JupyterNotebook/Game_Gesture/Tensorflow/workspace/images/collectedimages/down/down.249c04d3-6edb-11ec-a599-f8ac65ab7f15.xml\n",
      "Image:C:\\Projects\\JupyterNotebook\\Game_Gesture\\Tensorflow\\workspace\\images\\collectedimages\\down\\down.270a9371-6edb-11ec-ad25-f8ac65ab7f15.jpg -> Annotation:C:/Projects/JupyterNotebook/Game_Gesture/Tensorflow/workspace/images/collectedimages/down/down.270a9371-6edb-11ec-ad25-f8ac65ab7f15.xml\n",
      "Image:C:\\Projects\\JupyterNotebook\\Game_Gesture\\Tensorflow\\workspace\\images\\collectedimages\\down\\down.1606c404-6edb-11ec-84a8-f8ac65ab7f15.jpg -> Annotation:C:/Projects/JupyterNotebook/Game_Gesture/Tensorflow/workspace/images/collectedimages/down/down.1606c404-6edb-11ec-84a8-f8ac65ab7f15.xml\n",
      "Image:C:\\Projects\\JupyterNotebook\\Game_Gesture\\Tensorflow\\workspace\\images\\collectedimages\\down\\down.2365d9bc-6edb-11ec-be78-f8ac65ab7f15.jpg -> Annotation:C:/Projects/JupyterNotebook/Game_Gesture/Tensorflow/workspace/images/collectedimages/down/down.2365d9bc-6edb-11ec-be78-f8ac65ab7f15.xml\n",
      "Image:C:\\Projects\\JupyterNotebook\\Game_Gesture\\Tensorflow\\workspace\\images\\collectedimages\\down\\down.2977d672-6edb-11ec-827f-f8ac65ab7f15.jpg -> Annotation:C:/Projects/JupyterNotebook/Game_Gesture/Tensorflow/workspace/images/collectedimages/down/down.2977d672-6edb-11ec-827f-f8ac65ab7f15.xml\n",
      "Image:C:\\Projects\\JupyterNotebook\\Game_Gesture\\Tensorflow\\workspace\\images\\collectedimages\\down\\down.18746e42-6edb-11ec-975a-f8ac65ab7f15.jpg -> Annotation:C:/Projects/JupyterNotebook/Game_Gesture/Tensorflow/workspace/images/collectedimages/down/down.18746e42-6edb-11ec-975a-f8ac65ab7f15.xml\n",
      "Image:C:\\Projects\\JupyterNotebook\\Game_Gesture\\Tensorflow\\workspace\\images\\collectedimages\\down\\down.28402c13-6edb-11ec-9f94-f8ac65ab7f15.jpg -> Annotation:C:/Projects/JupyterNotebook/Game_Gesture/Tensorflow/workspace/images/collectedimages/down/down.28402c13-6edb-11ec-9f94-f8ac65ab7f15.xml\n"
     ]
    }
   ],
   "source": [
    "!cd {LABELIMG_PATH} && python labelImg.py"
   ]
  },
  {
   "cell_type": "markdown",
   "metadata": {},
   "source": [
    "# 6. Move them into a Training and Testing Partition"
   ]
  },
  {
   "cell_type": "code",
   "execution_count": null,
   "metadata": {},
   "outputs": [],
   "source": [
    "TRAIN_PATH = os.path.join('Tensorflow', 'workspace', 'images', 'train')\n",
    "TEST_PATH = os.path.join('Tensorflow', 'workspace', 'images', 'test')\n",
    "ARCHIVE_PATH = os.path.join('Tensorflow', 'workspace', 'images', 'archive.tar.gz')"
   ]
  },
  {
   "cell_type": "code",
   "execution_count": null,
   "metadata": {},
   "outputs": [],
   "source": [
    "!tar -czf {ARCHIVE_PATH} {TRAIN_PATH} {TEST_PATH}"
   ]
  },
  {
   "cell_type": "code",
   "execution_count": null,
   "metadata": {},
   "outputs": [],
   "source": []
  }
 ],
 "metadata": {
  "interpreter": {
   "hash": "b5a4721e3cc26eeb424c8f3125766dfb413ab9472b0142eca759702901e86ae8"
  },
  "kernelspec": {
   "display_name": "tfod",
   "language": "python",
   "name": "python3"
  },
  "language_info": {
   "codemirror_mode": {
    "name": "ipython",
    "version": 3
   },
   "file_extension": ".py",
   "mimetype": "text/x-python",
   "name": "python",
   "nbconvert_exporter": "python",
   "pygments_lexer": "ipython3",
   "version": "3.9.7"
  }
 },
 "nbformat": 4,
 "nbformat_minor": 2
}
